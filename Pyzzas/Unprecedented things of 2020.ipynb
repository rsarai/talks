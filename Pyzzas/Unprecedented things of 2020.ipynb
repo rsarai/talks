{
 "cells": [
  {
   "cell_type": "code",
   "execution_count": null,
   "metadata": {},
   "outputs": [],
   "source": [
    "import os\n",
    "import numpy as np\n",
    "import pandas as pd\n",
    "\n",
    "from sklearn.datasets import load_iris"
   ]
  },
  {
   "cell_type": "code",
   "execution_count": 55,
   "metadata": {},
   "outputs": [],
   "source": [
    "import h5py\n",
    "import time\n",
    "import mmap\n",
    "import zarr\n",
    "import numpy as np\n",
    "\n",
    "\n",
    "data = np.random.random((int(1e8),))"
   ]
  },
  {
   "cell_type": "code",
   "execution_count": 56,
   "metadata": {},
   "outputs": [
    {
     "name": "stdout",
     "output_type": "stream",
     "text": [
      "0.353014612197876\n"
     ]
    }
   ],
   "source": [
    "avg = []\n",
    "for i in range(5):\n",
    "    f = h5py.File('/tmp/myfile.hdf5','w')\n",
    "    \n",
    "    tic = time.time()\n",
    "    f['datasets'] = data\n",
    "    toc = time.time()\n",
    "\n",
    "    avg.append(toc - tic)\n",
    "    f.close()\n",
    "    \n",
    "print(np.array(avg).mean())"
   ]
  },
  {
   "cell_type": "code",
   "execution_count": 64,
   "metadata": {},
   "outputs": [
    {
     "name": "stdout",
     "output_type": "stream",
     "text": [
      "0.5963390350341797\n"
     ]
    }
   ],
   "source": [
    "avg = []\n",
    "for i in range(5):\n",
    "    z1 = zarr.open('/tmp/myfile.zarr', mode='w', shape=data.shape)\n",
    "    tic = time.time()\n",
    "    z1[:] = data\n",
    "    toc = time.time()\n",
    "    avg.append(toc - tic)\n",
    "    \n",
    "print(np.array(avg).mean())"
   ]
  },
  {
   "cell_type": "code",
   "execution_count": 58,
   "metadata": {},
   "outputs": [
    {
     "name": "stdout",
     "output_type": "stream",
     "text": [
      "3.8242340087890626e-05\n"
     ]
    }
   ],
   "source": [
    "avg = []\n",
    "for i in range(5):\n",
    "    mmap = np.memmap(\"/tmp/myfile.mmap\", mode='w+', dtype=np.float32,  shape=data.shape)\n",
    "    tic = time.time()\n",
    "    mmap = data\n",
    "    toc = time.time()\n",
    "    avg.append(toc - tic)\n",
    "    \n",
    "print(np.array(avg).mean())"
   ]
  },
  {
   "cell_type": "code",
   "execution_count": 59,
   "metadata": {},
   "outputs": [
    {
     "name": "stdout",
     "output_type": "stream",
     "text": [
      "0.3363489627838135\n"
     ]
    }
   ],
   "source": [
    "avg = []\n",
    "for i in range(5):\n",
    "    with open(\"/tmp/myfile.txt\", \"wb\") as f:\n",
    "        tic = time.time()\n",
    "        f.write(data)\n",
    "        toc = time.time()\n",
    "        avg.append(toc - tic)\n",
    "print(np.array(avg).mean())"
   ]
  },
  {
   "cell_type": "code",
   "execution_count": 62,
   "metadata": {},
   "outputs": [
    {
     "name": "stdout",
     "output_type": "stream",
     "text": [
      "7.987022399902344e-05\n"
     ]
    }
   ],
   "source": [
    "import mmap\n",
    "\n",
    "avg = []\n",
    "for i in range(5):\n",
    "    with open(\"/tmp/myfile_.txt\", \"wb\") as f:\n",
    "        f.write(data)\n",
    "    with open(\"/tmp/myfile_.txt\", \"r+b\") as f:\n",
    "        # memory-map the file, size 0 means whole file\n",
    "        tic = time.time()\n",
    "        mm = mmap.mmap(f.fileno(), 0)\n",
    "        toc = time.time()\n",
    "        avg.append(toc - tic)\n",
    "    \n",
    "print(np.array(avg).mean())"
   ]
  },
  {
   "cell_type": "code",
   "execution_count": null,
   "metadata": {},
   "outputs": [],
   "source": [
    "# ls -lh /tmp/myfile*.*"
   ]
  },
  {
   "cell_type": "code",
   "execution_count": null,
   "metadata": {},
   "outputs": [],
   "source": [
    "# h5py is much slower to write but much faster to read than numpy.memmap\n",
    "# numpy.memmap is faster to write but much slower to read than h5py"
   ]
  },
  {
   "cell_type": "code",
   "execution_count": null,
   "metadata": {},
   "outputs": [],
   "source": []
  },
  {
   "cell_type": "code",
   "execution_count": null,
   "metadata": {},
   "outputs": [],
   "source": []
  },
  {
   "cell_type": "code",
   "execution_count": 50,
   "metadata": {},
   "outputs": [],
   "source": [
    "# np.random.seed(42)"
   ]
  },
  {
   "cell_type": "markdown",
   "metadata": {},
   "source": [
    "# Reproducible Results"
   ]
  },
  {
   "cell_type": "code",
   "execution_count": 51,
   "metadata": {},
   "outputs": [],
   "source": [
    "data = load_iris()\n",
    "X = data.data\n",
    "y = data.target\n",
    "target_names = data.target_names"
   ]
  },
  {
   "cell_type": "code",
   "execution_count": 52,
   "metadata": {},
   "outputs": [
    {
     "name": "stdout",
     "output_type": "stream",
     "text": [
      "              precision    recall  f1-score   support\n",
      "\n",
      "      setosa       1.00      1.00      1.00        25\n",
      "  versicolor       0.92      0.88      0.90        25\n",
      "   virginica       0.88      0.92      0.90        25\n",
      "\n",
      "    accuracy                           0.93        75\n",
      "   macro avg       0.93      0.93      0.93        75\n",
      "weighted avg       0.93      0.93      0.93        75\n",
      "\n",
      "              precision    recall  f1-score   support\n",
      "\n",
      "      setosa       1.00      1.00      1.00        25\n",
      "  versicolor       0.96      0.96      0.96        25\n",
      "   virginica       0.96      0.96      0.96        25\n",
      "\n",
      "    accuracy                           0.97        75\n",
      "   macro avg       0.97      0.97      0.97        75\n",
      "weighted avg       0.97      0.97      0.97        75\n",
      "\n"
     ]
    }
   ],
   "source": [
    "from sklearn.ensemble import RandomForestClassifier\n",
    "from sklearn.metrics import classification_report\n",
    "from sklearn.model_selection import StratifiedKFold\n",
    "from sklearn import metrics\n",
    "\n",
    "kf = StratifiedKFold(n_splits=2)\n",
    "\n",
    "for train_index, test_index in kf.split(X, y):\n",
    "    X_train, X_test = X[train_index], X[test_index]\n",
    "    y_train, y_test = y[train_index], y[test_index]\n",
    "    \n",
    "    clf = RandomForestClassifier(max_depth=2)\n",
    "    clf.fit(X_train, y_train)\n",
    "\n",
    "    y_pred = clf.predict(X_test)\n",
    "    \n",
    "    print(classification_report(y_test, y_pred, target_names=target_names))\n",
    "    # print(\"Accuracy\", metrics.accuracy_score(y_test, y_pred))"
   ]
  },
  {
   "cell_type": "code",
   "execution_count": 53,
   "metadata": {},
   "outputs": [
    {
     "name": "stdout",
     "output_type": "stream",
     "text": [
      "Accuracy 0.9333333333333333\n",
      "Accuracy 0.9733333333333334\n"
     ]
    }
   ],
   "source": [
    "from sklearn.ensemble import RandomForestClassifier\n",
    "from sklearn.metrics import classification_report\n",
    "from sklearn.model_selection import StratifiedKFold\n",
    "from sklearn import metrics\n",
    "\n",
    "kf = StratifiedKFold(n_splits=2)\n",
    "\n",
    "for train_index, test_index in kf.split(X, y):\n",
    "    X_train, X_test = X[train_index], X[test_index]\n",
    "    y_train, y_test = y[train_index], y[test_index]\n",
    "    \n",
    "    clf = RandomForestClassifier(max_depth=2, random_state=42)\n",
    "    clf.fit(X_train, y_train)\n",
    "\n",
    "    y_pred = clf.predict(X_test)\n",
    "    print(\"Accuracy\", metrics.accuracy_score(y_test, y_pred))"
   ]
  },
  {
   "cell_type": "markdown",
   "metadata": {},
   "source": [
    "# 8 characters colision"
   ]
  },
  {
   "cell_type": "code",
   "execution_count": 41,
   "metadata": {},
   "outputs": [
    {
     "name": "stdout",
     "output_type": "stream",
     "text": [
      "<TemporaryDirectory '/tmp/tmp0u4dmfbx'>\n"
     ]
    }
   ],
   "source": [
    "import tempfile\n",
    "\n",
    "print(tempfile.TemporaryDirectory())"
   ]
  },
  {
   "cell_type": "code",
   "execution_count": 66,
   "metadata": {},
   "outputs": [
    {
     "data": {
      "text/plain": [
       "[<matplotlib.lines.Line2D at 0x7f116d642970>]"
      ]
     },
     "execution_count": 66,
     "metadata": {},
     "output_type": "execute_result"
    },
    {
     "data": {
      "image/png": "[encoded data removed]",
      "text/plain": [
       "<Figure size 432x288 with 1 Axes>"
      ]
     },
     "metadata": {
      "needs_background": "light"
     },
     "output_type": "display_data"
    }
   ],
   "source": [
    "import matplotlib.pyplot as plt\n",
    "\n",
    "d = 36**8\n",
    "n_sequence = list(range(10**5, 10**7, 150000))\n",
    "\n",
    "result = []\n",
    "for n in n_sequence:\n",
    "    result.append(1 - ((d-1)/d)**(n*(n-1)/2))\n",
    "\n",
    "plt.plot(n_sequence, result, '-gD')"
   ]
  },
  {
   "cell_type": "code",
   "execution_count": null,
   "metadata": {},
   "outputs": [],
   "source": []
  }
 ],
 "metadata": {
  "kernelspec": {
   "display_name": "memmap",
   "language": "python",
   "name": "memmap"
  },
  "language_info": {
   "codemirror_mode": {
    "name": "ipython",
    "version": 3
   },
   "file_extension": ".py",
   "mimetype": "text/x-python",
   "name": "python",
   "nbconvert_exporter": "python",
   "pygments_lexer": "ipython3",
   "version": "3.8.5"
  }
 },
 "nbformat": 4,
 "nbformat_minor": 4
}
